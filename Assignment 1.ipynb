{
 "cells": [
  {
   "cell_type": "markdown",
   "metadata": {},
   "source": [
    "'''\n",
    "1.Write a Python program to print \"Hello Python\"?\n",
    "'''"
   ]
  },
  {
   "cell_type": "code",
   "execution_count": 5,
   "metadata": {},
   "outputs": [
    {
     "name": "stdout",
     "output_type": "stream",
     "text": [
      "Hello Python\n"
     ]
    }
   ],
   "source": [
    "print(\"Hello Python\")"
   ]
  },
  {
   "cell_type": "markdown",
   "metadata": {},
   "source": [
    "'''\n",
    "2.Write a Python program to do arithmetical operations addition and division.?\n",
    "'''"
   ]
  },
  {
   "cell_type": "code",
   "execution_count": 8,
   "metadata": {},
   "outputs": [
    {
     "name": "stdout",
     "output_type": "stream",
     "text": [
      "4\n",
      "5\n"
     ]
    }
   ],
   "source": [
    "a=int(input())\n",
    "b=int(input())"
   ]
  },
  {
   "cell_type": "code",
   "execution_count": 10,
   "metadata": {},
   "outputs": [
    {
     "data": {
      "text/plain": [
       "9"
      ]
     },
     "execution_count": 10,
     "metadata": {},
     "output_type": "execute_result"
    }
   ],
   "source": [
    "a+b"
   ]
  },
  {
   "cell_type": "code",
   "execution_count": 11,
   "metadata": {},
   "outputs": [
    {
     "data": {
      "text/plain": [
       "0.8"
      ]
     },
     "execution_count": 11,
     "metadata": {},
     "output_type": "execute_result"
    }
   ],
   "source": [
    "a/b"
   ]
  },
  {
   "cell_type": "code",
   "execution_count": 1,
   "metadata": {},
   "outputs": [
    {
     "name": "stdout",
     "output_type": "stream",
     "text": [
      "1st side of a traingle8\n",
      "2nd side of a traingle9\n",
      "3rd side of a traingle7\n",
      "Area of the traingle is : 26.832815729997478\n"
     ]
    }
   ],
   "source": [
    "'''3.Write a Python program to find the area of a triangle?'''\n",
    "\n",
    "a= float(input( \"1st side of a traingle\"))\n",
    "b= float(input( \"2nd side of a traingle\"))\n",
    "c= float(input( \"3rd side of a traingle\"))\n",
    "#semi perimeter of traingle\n",
    "s=(a+b+c)/2\n",
    "# Area of traingle\n",
    "area=(s*(s-a)*(s-b)*(s-c))**0.5\n",
    "print('Area of the traingle is :',area)"
   ]
  },
  {
   "cell_type": "code",
   "execution_count": 28,
   "metadata": {},
   "outputs": [
    {
     "name": "stdout",
     "output_type": "stream",
     "text": [
      "the value of x:4\n",
      "the value of y:9\n",
      "value of x after swaping: 9\n",
      "value of y after swaping: 4\n"
     ]
    }
   ],
   "source": [
    "'''4.Write a Python program to swap two variables?'''\n",
    "x=int(input('the value of x:'))\n",
    "y=int(input('the value of y:'))\n",
    "\n",
    "x,y=y,x\n",
    "print('value of x after swaping:',x)\n",
    "print('value of y after swaping:',y)\n"
   ]
  },
  {
   "cell_type": "code",
   "execution_count": 34,
   "metadata": {},
   "outputs": [
    {
     "name": "stdout",
     "output_type": "stream",
     "text": [
      "16\n"
     ]
    }
   ],
   "source": [
    "'''5.Write a Python program to generate a random number?'''\n",
    "import random\n",
    "print(random.randint(0,45))"
   ]
  }
 ],
 "metadata": {
  "kernelspec": {
   "display_name": "Python 3",
   "language": "python",
   "name": "python3"
  },
  "language_info": {
   "codemirror_mode": {
    "name": "ipython",
    "version": 3
   },
   "file_extension": ".py",
   "mimetype": "text/x-python",
   "name": "python",
   "nbconvert_exporter": "python",
   "pygments_lexer": "ipython3",
   "version": "3.8.5"
  }
 },
 "nbformat": 4,
 "nbformat_minor": 4
}
