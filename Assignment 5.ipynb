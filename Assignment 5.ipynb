{
 "cells": [
  {
   "cell_type": "code",
   "execution_count": 9,
   "metadata": {},
   "outputs": [
    {
     "name": "stdout",
     "output_type": "stream",
     "text": [
      "enter first number14\n",
      "enter first number16\n",
      "lcm is  112\n"
     ]
    }
   ],
   "source": [
    "#1.Write a Python Program to Find LCM?\n",
    "\n",
    "def compute_lcm(x,y):\n",
    "    \n",
    "    if x>y:\n",
    "        greater =x\n",
    "    else:\n",
    "        greater=y\n",
    "        \n",
    "    while(True):\n",
    "        if ((greater%x==0) and (greater%y==0)):\n",
    "            lcm=greater\n",
    "            break\n",
    "        greater+=1\n",
    "            \n",
    "    return lcm\n",
    "num1=int(input('enter first number'))\n",
    "num2=int(input('enter first number'))\n",
    "\n",
    "print('lcm is ',compute_lcm(num1,num2))"
   ]
  },
  {
   "cell_type": "code",
   "execution_count": 15,
   "metadata": {},
   "outputs": [
    {
     "name": "stdout",
     "output_type": "stream",
     "text": [
      "enter first number:15\n",
      "enter second number:25\n",
      "HCF is 5\n"
     ]
    }
   ],
   "source": [
    "#2.Write a Python Program to Find HCF?\n",
    "\n",
    "def compute_hcf(x,y):\n",
    "    \n",
    "    if x<y:\n",
    "        smaller=x\n",
    "        \n",
    "    else:\n",
    "        smaller=y\n",
    "    \n",
    "    for i in range(1,smaller+1):\n",
    "        if(x % i==0) and (y % i==0):\n",
    "            hcf=i\n",
    "            \n",
    "    return hcf\n",
    "num1=int(input('enter first number:'))\n",
    "num2=int(input('enter second number:'))\n",
    "\n",
    "print('HCF is',compute_hcf(num1,num2))"
   ]
  },
  {
   "cell_type": "code",
   "execution_count": 17,
   "metadata": {},
   "outputs": [
    {
     "name": "stdout",
     "output_type": "stream",
     "text": [
      "enter decimal number158\n",
      "binary number of  158 is 0b10011110\n",
      "octal number of  158 is 0o236\n",
      "hexadecimal number of  158 is 0x9e\n"
     ]
    }
   ],
   "source": [
    "#3.Write a Python Program to Convert Decimal to Binary, Octal and Hexadecimal?\n",
    "\n",
    "d= int(input('enter decimal number'))\n",
    "\n",
    "# decimal to binary\n",
    "\n",
    "b=bin(d)\n",
    "\n",
    "#decimal to octal\n",
    "\n",
    "o=oct(d)\n",
    "\n",
    "# decimal to hexadecimal\n",
    "\n",
    "h=hex(d)\n",
    "\n",
    "print('binary number of ' ,d ,'is',b)\n",
    "print('octal number of ' ,d, 'is',o)\n",
    "print('hexadecimal number of ', d, 'is',h)"
   ]
  },
  {
   "cell_type": "code",
   "execution_count": 9,
   "metadata": {},
   "outputs": [
    {
     "name": "stdout",
     "output_type": "stream",
     "text": [
      "A\n",
      "The ASCII value of 'A'is 65\n"
     ]
    }
   ],
   "source": [
    "#4.Write a Python Program To Find ASCII value of a character?\n",
    "\n",
    "\n",
    "c=str(input())\n",
    "print(\"The ASCII value of '\"+c+ \"'is\",ord(c))"
   ]
  },
  {
   "cell_type": "code",
   "execution_count": 9,
   "metadata": {},
   "outputs": [
    {
     "name": "stdout",
     "output_type": "stream",
     "text": [
      "enter first number : 8\n",
      "enter second number :6\n",
      "please select the operation\n",
      "1.addition\n",
      "2.subtraction\n",
      "3.multiplication\n",
      "4.division\n",
      "please enter choice (1/2/3/4):2\n",
      "Subtraction of 8.0 and 6.0 is: 2.0\n"
     ]
    }
   ],
   "source": [
    "#5.Write a Python Program to Make a Simple Calculator with 4 basic mathematical operations?\n",
    "\n",
    "x=float(input('enter first number : '))\n",
    "y=float(input('enter second number :'))\n",
    "\n",
    "print('please select the operation')\n",
    "print('1.addition')\n",
    "print(\"2.subtraction\")\n",
    "print(\"3.multiplication\")\n",
    "print('4.division')\n",
    "      \n",
    "choice=int(input('please enter choice (1/2/3/4):'))\n",
    "\n",
    "if choice==1:\n",
    "    print('Addition of',x,'and',y,'is:',x+y)\n",
    "\n",
    "elif choice==2:\n",
    "    print('Subtraction of',x,'and',y,'is:',x-y)\n",
    "\n",
    "elif choice==3:\n",
    "    print('Multiplication of',x,'and',y,'is:',x*y)\n",
    "    \n",
    "elif choice==4:\n",
    "    print('Division of',x,'and',y,'is:',x/y)"
   ]
  },
  {
   "cell_type": "code",
   "execution_count": null,
   "metadata": {},
   "outputs": [],
   "source": []
  }
 ],
 "metadata": {
  "kernelspec": {
   "display_name": "Python 3",
   "language": "python",
   "name": "python3"
  },
  "language_info": {
   "codemirror_mode": {
    "name": "ipython",
    "version": 3
   },
   "file_extension": ".py",
   "mimetype": "text/x-python",
   "name": "python",
   "nbconvert_exporter": "python",
   "pygments_lexer": "ipython3",
   "version": "3.8.5"
  }
 },
 "nbformat": 4,
 "nbformat_minor": 4
}
