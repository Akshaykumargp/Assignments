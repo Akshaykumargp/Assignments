{
 "cells": [
  {
   "cell_type": "code",
   "execution_count": 4,
   "metadata": {},
   "outputs": [
    {
     "name": "stdout",
     "output_type": "stream",
     "text": [
      "Distance in KM :1\n",
      "Distance in miles: 0.6214\n"
     ]
    }
   ],
   "source": [
    "'''1.Write a Python program to convert kilometers to miles?'''\n",
    "\n",
    "k=float(input('Distance in KM :'))\n",
    "\n",
    "m=k*.6214\n",
    "print('Distance in miles:',m)"
   ]
  },
  {
   "cell_type": "code",
   "execution_count": 6,
   "metadata": {},
   "outputs": [
    {
     "name": "stdout",
     "output_type": "stream",
     "text": [
      "temp in celsius:1\n",
      "temp in fahrenheit: 33.8\n"
     ]
    }
   ],
   "source": [
    "'''2.Write a Python program to convert Celsius to Fahrenheit?'''\n",
    "\n",
    "c=float(input(\"temp in celsius:\"))\n",
    "f=((c*(9/5)+32))\n",
    "print('temp in fahrenheit:',f)"
   ]
  },
  {
   "cell_type": "code",
   "execution_count": 12,
   "metadata": {},
   "outputs": [
    {
     "name": "stdout",
     "output_type": "stream",
     "text": [
      "Enter year2022\n",
      "Enter month02\n",
      "   February 2022\n",
      "Mo Tu We Th Fr Sa Su\n",
      "    1  2  3  4  5  6\n",
      " 7  8  9 10 11 12 13\n",
      "14 15 16 17 18 19 20\n",
      "21 22 23 24 25 26 27\n",
      "28\n",
      "\n"
     ]
    }
   ],
   "source": [
    "'''3.Write a Python program to display calendar?'''\n",
    "\n",
    "import calendar\n",
    "yy=int(input('Enter year'))\n",
    "mm=int(input('Enter month'))\n",
    "print(calendar.month(yy,mm))"
   ]
  },
  {
   "cell_type": "code",
   "execution_count": 15,
   "metadata": {},
   "outputs": [
    {
     "name": "stdout",
     "output_type": "stream",
     "text": [
      "2\n",
      "5\n",
      "8\n",
      "solutions are(-1.25-1.5612494995995996j),(-1.25+1.5612494995995996j)\n"
     ]
    }
   ],
   "source": [
    "'''4.Write a Python program to solve quadratic equation?'''\n",
    "# quadratic equation, ax**2+bx+c=0\n",
    "import cmath\n",
    "a=int(input())\n",
    "b=int(input())\n",
    "c=int(input())\n",
    "\n",
    "d=(b**2)-(4*a*c)\n",
    "\n",
    "sol1=(-b-cmath.sqrt(d))/(2*a)\n",
    "sol2=(-b+cmath.sqrt(d))/(2*a)\n",
    "print('solutions are{0},{1}'.format(sol1,sol2))"
   ]
  },
  {
   "cell_type": "code",
   "execution_count": 20,
   "metadata": {},
   "outputs": [
    {
     "name": "stdout",
     "output_type": "stream",
     "text": [
      "2\n",
      "5\n",
      "value of a after swap: 5\n",
      "value of b after swap: 2\n"
     ]
    }
   ],
   "source": [
    "'''5.Write a Python program to swap two variables without temp variable?'''\n",
    "\n",
    "a=int(input())\n",
    "b=int(input())\n",
    "a,b=b,a\n",
    "print('value of a after swap:',a)\n",
    "print('value of b after swap:',b)"
   ]
  }
 ],
 "metadata": {
  "kernelspec": {
   "display_name": "Python 3",
   "language": "python",
   "name": "python3"
  },
  "language_info": {
   "codemirror_mode": {
    "name": "ipython",
    "version": 3
   },
   "file_extension": ".py",
   "mimetype": "text/x-python",
   "name": "python",
   "nbconvert_exporter": "python",
   "pygments_lexer": "ipython3",
   "version": "3.8.5"
  }
 },
 "nbformat": 4,
 "nbformat_minor": 4
}
