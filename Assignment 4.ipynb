{
 "cells": [
  {
   "cell_type": "code",
   "execution_count": 5,
   "metadata": {},
   "outputs": [
    {
     "name": "stdout",
     "output_type": "stream",
     "text": [
      "enter a number:4\n",
      "factorial of  4 is 24\n"
     ]
    }
   ],
   "source": [
    "#1.Write a Python Program to Find the Factorial of a Number?\n",
    "\n",
    "f=int(input(\"enter a number:\"))\n",
    "factorial = 1\n",
    "if f<0:\n",
    "    print(\"factorial does not exist for negative number\")\n",
    "    \n",
    "elif f==0:\n",
    "    print ('factorial of 0is 1')\n",
    "    \n",
    "else :\n",
    "    for i in range (1,f+1):\n",
    "        factorial=factorial*i\n",
    "    print(\"factorial of \",f, \"is\",factorial )"
   ]
  },
  {
   "cell_type": "code",
   "execution_count": 8,
   "metadata": {},
   "outputs": [
    {
     "name": "stdout",
     "output_type": "stream",
     "text": [
      "enter the number to display multiplication table:10\n",
      "10 x 1 = 10\n",
      "10 x 2 = 20\n",
      "10 x 3 = 30\n",
      "10 x 4 = 40\n",
      "10 x 5 = 50\n",
      "10 x 6 = 60\n",
      "10 x 7 = 70\n",
      "10 x 8 = 80\n",
      "10 x 9 = 90\n",
      "10 x 10 = 100\n"
     ]
    }
   ],
   "source": [
    "# 2.Write a Python Program to Display the multiplication Table?\n",
    "\n",
    "t=int(input(\"enter the number to display multiplication table:\"))\n",
    "\n",
    "for i in range (1,11):\n",
    "    print(t,'x',i,'=',t*i)"
   ]
  },
  {
   "cell_type": "code",
   "execution_count": 2,
   "metadata": {},
   "outputs": [
    {
     "name": "stdout",
     "output_type": "stream",
     "text": [
      "enter the number:8\n",
      "fibonacci of 8 is\n",
      "0\n",
      "1\n",
      "1\n",
      "2\n",
      "3\n",
      "5\n",
      "8\n",
      "13\n"
     ]
    }
   ],
   "source": [
    "# 3.Write a Python Program to Print the Fibonacci sequence?\n",
    "\n",
    "n=int(input('enter the number:'))\n",
    "n1,n2=0,1\n",
    "count=0\n",
    "\n",
    "if n<0:\n",
    "    print(\"incorrect input\")\n",
    "    \n",
    "elif n==0:\n",
    "    print(n1)\n",
    "    \n",
    "elif n==1 or n==2:\n",
    "    print(n2)\n",
    "    \n",
    "else :\n",
    "    print('fibonacci of',n,'is')\n",
    "    \n",
    "    while count<n:\n",
    "        print(n1)\n",
    "        tem=n1+n2\n",
    "        n1=n2\n",
    "        n2=tem\n",
    "        count+=1"
   ]
  },
  {
   "cell_type": "code",
   "execution_count": 56,
   "metadata": {},
   "outputs": [
    {
     "name": "stdout",
     "output_type": "stream",
     "text": [
      "enter a number:1634\n",
      "1634 is an armstrong number\n"
     ]
    }
   ],
   "source": [
    "#4.Write a Python Program to Check Armstrong Number?\n",
    "\n",
    "a=int(input('enter a number:'))\n",
    "sum=0\n",
    "\n",
    "temp=a\n",
    "while temp>0:\n",
    "    digit=temp%10\n",
    "    sum+=digit**len(str(a))\n",
    "    temp//=10\n",
    "    \n",
    "if sum==a:\n",
    "    print(a,'is an armstrong number')\n",
    "    \n",
    "else:\n",
    "    print(a,'is not an armstrong number')"
   ]
  },
  {
   "cell_type": "code",
   "execution_count": 70,
   "metadata": {
    "scrolled": true
   },
   "outputs": [
    {
     "name": "stdout",
     "output_type": "stream",
     "text": [
      "153\n",
      "370\n",
      "371\n",
      "407\n",
      "1634\n",
      "8208\n",
      "9474\n"
     ]
    }
   ],
   "source": [
    "#5.Write a Python Program to Find Armstrong Number in an Interval?\n",
    "\n",
    "# l=lower range\n",
    "l=100\n",
    "\n",
    "# u=upper range\n",
    "u=10000\n",
    "\n",
    "for k in range (l,u+1):\n",
    "    sum=0\n",
    "    temp=k\n",
    "    while temp>0:\n",
    "        digit=temp%10\n",
    "        sum+=digit**len(str(k))\n",
    "        temp//=10\n",
    "    \n",
    "    if k==sum:\n",
    "        print(k)"
   ]
  },
  {
   "cell_type": "code",
   "execution_count": 82,
   "metadata": {},
   "outputs": [
    {
     "name": "stdout",
     "output_type": "stream",
     "text": [
      "enter the number:879\n",
      "the sum is 386760\n"
     ]
    }
   ],
   "source": [
    "#6.Write a Python Program to Find the Sum of Natural Numbers?\n",
    "\n",
    "s=int(input('enter the number:'))\n",
    "\n",
    "if s<0:\n",
    "    print('enter positive number')\n",
    "\n",
    "else:\n",
    "    sum=0\n",
    "    \n",
    "    while(s>0):\n",
    "        \n",
    "        sum+=s\n",
    "        s-=1\n",
    "    print('the sum is', sum)"
   ]
  }
 ],
 "metadata": {
  "kernelspec": {
   "display_name": "Python 3",
   "language": "python",
   "name": "python3"
  },
  "language_info": {
   "codemirror_mode": {
    "name": "ipython",
    "version": 3
   },
   "file_extension": ".py",
   "mimetype": "text/x-python",
   "name": "python",
   "nbconvert_exporter": "python",
   "pygments_lexer": "ipython3",
   "version": "3.8.5"
  }
 },
 "nbformat": 4,
 "nbformat_minor": 4
}
