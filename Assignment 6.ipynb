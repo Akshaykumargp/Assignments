{
 "cells": [
  {
   "cell_type": "code",
   "execution_count": 4,
   "metadata": {},
   "outputs": [
    {
     "name": "stdout",
     "output_type": "stream",
     "text": [
      "enter the number : 14\n",
      "fibonacci sequence:\n",
      "0\n",
      "1\n",
      "1\n",
      "2\n",
      "3\n",
      "5\n",
      "8\n",
      "13\n",
      "21\n",
      "34\n",
      "55\n",
      "89\n",
      "144\n",
      "233\n"
     ]
    }
   ],
   "source": [
    "#1.Write a Python Program to Display Fibonacci Sequence Using Recursion?\n",
    "\n",
    "def recur_fibo(n):\n",
    "    if n<=1:\n",
    "        return n\n",
    "    else:\n",
    "        return(recur_fibo(n-1)+recur_fibo(n-2))\n",
    "    \n",
    "nterms=int(input('enter the number : '))\n",
    "\n",
    "if nterms<=0:\n",
    "    print('enter positive integer')\n",
    "    \n",
    "else:\n",
    "    print('fibonacci sequence:')\n",
    "    for i in range(nterms):\n",
    "        print(recur_fibo(i))"
   ]
  },
  {
   "cell_type": "code",
   "execution_count": 10,
   "metadata": {},
   "outputs": [
    {
     "name": "stdout",
     "output_type": "stream",
     "text": [
      "enter n value4\n",
      "24\n"
     ]
    }
   ],
   "source": [
    "#2.Write a Python Program to Find Factorial of Number Using Recursion?\n",
    "\n",
    "def factorial(n):\n",
    "    if (n==0 or n==1):\n",
    "        return 1\n",
    "    else:\n",
    "        return n*factorial(n-1)\n",
    "n=int(input('enter n value'))\n",
    "ans=factorial(n)\n",
    "print(ans)"
   ]
  },
  {
   "cell_type": "code",
   "execution_count": 28,
   "metadata": {},
   "outputs": [
    {
     "name": "stdout",
     "output_type": "stream",
     "text": [
      "enter your height in metric:172\n",
      "enter your weight in kg:68\n",
      "your are normal\n"
     ]
    }
   ],
   "source": [
    "#3.Write a Python Program to calculate your Body Mass Index?\n",
    "\n",
    "\n",
    "height=float(input('enter your height in metric:'))\n",
    "weight=float(input('enter your weight in kg:'))\n",
    "\n",
    "BMI=weight/((height/100)**2)\n",
    "\n",
    "if BMI<18.5:\n",
    "    print('you are under weight')\n",
    "    \n",
    "elif 18.5<BMI<24.9:\n",
    "    print('your are normal')\n",
    "    \n",
    "elif 25<BMI<29.9:\n",
    "    print('you are over weight')\n",
    "    \n",
    "elif BMI>30:\n",
    "    print('you are obese')"
   ]
  },
  {
   "cell_type": "code",
   "execution_count": 3,
   "metadata": {},
   "outputs": [
    {
     "name": "stdout",
     "output_type": "stream",
     "text": [
      "enter the number:6\n",
      "Natural log of 6.0 is 2.6390573296152584\n"
     ]
    }
   ],
   "source": [
    "#4.Write a Python Program to calculate the natural logarithm of any number?\n",
    "\n",
    "n=float(input('enter the number:'))\n",
    "\n",
    "import math\n",
    "\n",
    "print('Natural log of',n,'is',math.log(14))"
   ]
  },
  {
   "cell_type": "code",
   "execution_count": 14,
   "metadata": {},
   "outputs": [
    {
     "name": "stdout",
     "output_type": "stream",
     "text": [
      "enter the number:8\n",
      "1296\n"
     ]
    }
   ],
   "source": [
    "# 5.Write a Python Program for cube sum of first n natural numbers?\n",
    "\n",
    "s=int(input('enter the number:'))\n",
    "def sumofseries(s):\n",
    "    sum=0\n",
    "    \n",
    "    for i in range(1,s+1):\n",
    "        sum+=i*i*i\n",
    "    \n",
    "    return sum\n",
    "print(sumofseries(s))"
   ]
  }
 ],
 "metadata": {
  "kernelspec": {
   "display_name": "Python 3",
   "language": "python",
   "name": "python3"
  },
  "language_info": {
   "codemirror_mode": {
    "name": "ipython",
    "version": 3
   },
   "file_extension": ".py",
   "mimetype": "text/x-python",
   "name": "python",
   "nbconvert_exporter": "python",
   "pygments_lexer": "ipython3",
   "version": "3.8.5"
  }
 },
 "nbformat": 4,
 "nbformat_minor": 4
}
